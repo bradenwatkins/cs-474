{
  "nbformat": 4,
  "nbformat_minor": 0,
  "metadata": {
    "accelerator": "GPU",
    "colab": {
      "name": "DL_Lab3.ipynb",
      "provenance": [],
      "collapsed_sections": [],
      "include_colab_link": true
    },
    "kernelspec": {
      "name": "python3",
      "display_name": "Python 3"
    },
    "language_info": {
      "codemirror_mode": {
        "name": "ipython",
        "version": 3
      },
      "file_extension": ".py",
      "mimetype": "text/x-python",
      "name": "python",
      "nbconvert_exporter": "python",
      "pygments_lexer": "ipython3",
      "version": "3.6.3"
    },
    "pycharm": {
      "stem_cell": {
        "cell_type": "raw",
        "metadata": {
          "collapsed": false
        },
        "source": []
      }
    }
  },
  "cells": [
    {
      "cell_type": "markdown",
      "metadata": {
        "id": "view-in-github",
        "colab_type": "text"
      },
      "source": [
        "<a href=\"https://colab.research.google.com/github/bradenwatkins/cs-474/blob/master/DL_Lab3.ipynb\" target=\"_parent\"><img src=\"https://colab.research.google.com/assets/colab-badge.svg\" alt=\"Open In Colab\"/></a>"
      ]
    },
    {
      "cell_type": "markdown",
      "metadata": {
        "id": "IsoQN681naFA",
        "colab_type": "text"
      },
      "source": [
        "<a href=\"https://colab.research.google.com/github/wingated/cs474_labs_f2019/blob/master/DL_Lab3.ipynb\" target=\"_parent\"><img src=\"https://colab.research.google.com/assets/colab-badge.svg\" alt=\"Open In Colab\"/></a>"
      ]
    },
    {
      "cell_type": "markdown",
      "metadata": {
        "colab_type": "text",
        "id": "view-in-github"
      },
      "source": [
        "# Lab 3: Intro to CNNs and DNNs\n",
        "\n",
        "## Objectives\n",
        "\n",
        "* Build and train a deep conv net\n",
        "* Explore and implement various initialization techniques\n",
        "* Implement a parameterized module in Pytorch\n",
        "* Use a principled loss function\n",
        "\n",
        "## Video Tutorial\n",
        "[https://youtu.be/3TAuTcx-VCc](https://youtu.be/3TAuTcx-VCc)\n",
        "\n",
        "## Deliverable\n",
        "For this lab, you will submit an ipython notebook via learningsuite.\n",
        "This is where you build your first deep neural network!\n",
        "\n",
        "For this lab, we'll be combining several different concepts that we've covered during class,\n",
        "including new layer types, initialization strategies, and an understanding of convolutions.\n",
        "\n",
        "## Grading Standards:\n",
        "* 30% Part 0: Successfully followed lab video and typed in code\n",
        "* 20% Part 1: Re-implement Conv2D and CrossEntropy loss function\n",
        "* 20% Part 2: Implement different initialization strategies\n",
        "* 10% Part 3: Print parameters, plot train/test accuracy\n",
        "* 10% Part 4: Convolution parameters quiz\n",
        "* 10% Tidy and legible figures, including labeled axes where appropriate\n",
        "___\n",
        "\n",
        "### Part 0\n",
        "Watch and follow video tutorial:\n",
        "\n",
        "[https://youtu.be/3TAuTcx-VCc](https://youtu.be/3TAuTcx-VCc)\n",
        "\n",
        "**DONE:**\n",
        "* Watch tutorial"
      ]
    },
    {
      "cell_type": "markdown",
      "metadata": {
        "colab_type": "text",
        "id": "QY4owfQwm-Ni"
      },
      "source": [
        "___\n",
        "\n",
        "### Part 1\n",
        "Re-implement a Conv2D module with parameters and a CrossEntropy loss function.\n",
        "\n",
        "**DONE:**\n",
        "* CrossEntropyLoss \n",
        "* Conv2D\n",
        "\n",
        "___\n",
        "\n",
        "### Part 2\n",
        "Implement a few initialization strategies which can include Xe initialization\n",
        "(sometimes called Xavier), Orthogonal initialization, and uniform random.\n",
        "You can specify which strategy you want to use with a parameter. \n",
        "\n",
        "Helpful links include:\n",
        "*  [Orthogonal Initialization](https://hjweide.github.io/orthogonal-initialization-in-convolutional-layers) (or the original paper: http://arxiv.org/abs/1312.6120)\n",
        "*  http://andyljones.tumblr.com/post/110998971763/an-explanation-of-xavier-initialization\n",
        "\n",
        "**DONE:**\n",
        "* Uniform\n",
        "* Parameterize custom Conv2D for different initilization strategies\n",
        "* Xe\n",
        "* Orthogonal\n",
        "\n"
      ]
    },
    {
      "cell_type": "code",
      "metadata": {
        "pycharm": {
          "name": "#%%\n"
        },
        "id": "mOuZH4kXnaFB",
        "colab_type": "code",
        "colab": {}
      },
      "source": [
        "!pip3 install torch\n",
        "!pip3 install torchvision\n",
        "!pip3 install tqdm"
      ],
      "execution_count": 0,
      "outputs": []
    },
    {
      "cell_type": "code",
      "metadata": {
        "colab_type": "code",
        "id": "wQOefmcZVgTl",
        "colab": {}
      },
      "source": [
        "import torch\n",
        "import torch.nn as nn\n",
        "import torch.nn.functional as F\n",
        "import torch.optim as optim\n",
        "from torch.utils.data import Dataset, DataLoader\n",
        "import numpy as np\n",
        "import matplotlib.pyplot as plt\n",
        "from torchvision import transforms, utils, datasets\n",
        "from torch.nn.parameter import Parameter\n",
        "from tqdm import tqdm\n",
        "from IPython.core.debugger import set_trace\n",
        "\n",
        "assert torch.cuda.is_available(), \"You need to request a GPU from Runtime > Change Runtime\""
      ],
      "execution_count": 0,
      "outputs": []
    },
    {
      "cell_type": "code",
      "metadata": {
        "id": "H772hgvvNUDJ",
        "colab_type": "code",
        "colab": {}
      },
      "source": [
        "class FashionMNISTProcessedDataset(Dataset):\n",
        "  def __init__(self, root, train=True):\n",
        "    self.data = datasets.FashionMNIST(\n",
        "        root, \n",
        "        train=train, \n",
        "        transform=transforms.ToTensor(), \n",
        "        download=True)\n",
        "    \n",
        "  def __getitem__(self, i):\n",
        "    x, y = self.data[i]\n",
        "    return x, y\n",
        "\n",
        "  def __len__(self):\n",
        "    return len(self.data)"
      ],
      "execution_count": 0,
      "outputs": []
    },
    {
      "cell_type": "code",
      "metadata": {
        "colab_type": "code",
        "id": "RkieTbwlYWPS",
        "colab": {}
      },
      "source": [
        "class CrossEntropyLoss(nn.Module):\n",
        "  def __init__(self, weight=None, size_average=None, ignore_index=-100, \n",
        "               reduce=None, reduction='mean'):\n",
        "    self.__dict__.update(locals())\n",
        "    super(CrossEntropyLoss, self).__init__()\n",
        "\n",
        "  def forward(self, y_hat, y_truth):\n",
        "    penalty = torch.log(torch.sum(torch.exp(y_hat), dim=1))\n",
        "    n, classes = y_hat.size()\n",
        "    b = torch.zeros((n, classes))\n",
        "    b[np.arange(n), y_truth] = 1\n",
        "    true_preds = torch.sum(y_hat * b.cuda(), dim=1)\n",
        "    return torch.mean(-true_preds + penalty)"
      ],
      "execution_count": 0,
      "outputs": []
    },
    {
      "cell_type": "code",
      "metadata": {
        "id": "ig4O6d7QNNAA",
        "colab_type": "code",
        "colab": {}
      },
      "source": [
        "class Conv2d(nn.Module):\n",
        "  def __init__(self, in_channels, out_channels, kernel_size, init_strategy, stride=1, padding=0, \n",
        "               dilation=1, groups=1, bias=True, padding_mode='zeros'):\n",
        "    self.__dict__.update(locals())\n",
        "    super(Conv2d, self).__init__()\n",
        "\n",
        "    self.weight = Parameter(torch.Tensor(out_channels, in_channels, *kernel_size))\n",
        "    self.bias = Parameter(torch.Tensor(out_channels))\n",
        "    self.bias.data.uniform_(0, 0)\n",
        "\n",
        "    if init_strategy == 'xav':\n",
        "      # Xavier Initialization\n",
        "      torch.nn.init.xavier_uniform_(self.weight)\n",
        "    elif init_strategy == 'orth':\n",
        "      # Orthogonal Distribution\n",
        "      X = np.random.random((out_channels, in_channels * kernel_size[0] * kernel_size[1])).astype(np.float32)\n",
        "      U, _, Vt = np.linalg.svd(X, full_matrices=False)\n",
        "      svd = U if len(X) > len(X[0]) else Vt\n",
        "      W = svd.reshape((out_channels, in_channels, kernel_size[0], kernel_size[1]))\n",
        "      self.weight.data = torch.from_numpy(W).float()\n",
        "    else: \n",
        "      # Uniform Distribution\n",
        "      self.weight.data.uniform_(-1, 1)\n",
        "  \n",
        "  def forward(self,x):\n",
        "    return F.conv2d(x, self.weight, self.bias, self.stride, self.padding, \n",
        "             self.dilation, self.groups)"
      ],
      "execution_count": 0,
      "outputs": []
    },
    {
      "cell_type": "code",
      "metadata": {
        "colab_type": "code",
        "id": "d4C-_v9Hm7YE",
        "colab": {}
      },
      "source": [
        "class ConvNetwork(nn.Module):\n",
        "  def __init__(self, dataset, init_strategy=\"uni\"):\n",
        "    super(ConvNetwork, self).__init__()\n",
        "    x, y = dataset[0]\n",
        "    c, h, w = x.size()\n",
        "    output = 10\n",
        "\n",
        "    self.net = nn.Sequential(\n",
        "        Conv2d(c, 10, (3, 3), init_strategy, padding=(1, 1)),\n",
        "        nn.ReLU(),\n",
        "        Conv2d(10, 64, (3, 3), init_strategy, padding=(1, 1)),\n",
        "        nn.ReLU(),\n",
        "        Conv2d(64, 50, (28, 28), init_strategy, padding=(0, 0)),\n",
        "        nn.ReLU(),\n",
        "        Conv2d(50, output, (1, 1), init_strategy, padding=(0, 0)),\n",
        "    )\n",
        "\n",
        "  def forward(self, x):\n",
        "    return self.net(x).squeeze(2).squeeze(2)"
      ],
      "execution_count": 0,
      "outputs": []
    },
    {
      "cell_type": "code",
      "metadata": {
        "colab_type": "code",
        "id": "mTg1jyIsYVZN",
        "pycharm": {
          "is_executing": false
        },
        "outputId": "869d8fc7-93c1-4860-c11f-86fb360eafe8",
        "colab": {
          "base_uri": "https://localhost:8080/",
          "height": 35
        }
      },
      "source": [
        "# Initialize Datasets\n",
        "train_dataset = FashionMNISTProcessedDataset('/temp/fashionmnist')\n",
        "val_dataset = FashionMNISTProcessedDataset('/temp/fashionmnist', train=False)\n",
        "\n",
        "# Initialize DataLoaders\n",
        "train_loader = DataLoader(train_dataset, batch_size=42, pin_memory=True)\n",
        "val_loader = DataLoader(val_dataset, batch_size=42, pin_memory=True)\n",
        "\n",
        "# Initialize Model\n",
        "model = ConvNetwork(train_dataset, 'orth').cuda()\n",
        "\n",
        "# Initialize Objective and Optimizer and other parameters\n",
        "objective = CrossEntropyLoss()\n",
        "optimizer = optim.Adam(model.parameters(), lr=1e-4)\n",
        "\n",
        "num_epoch = 1\n",
        "plot_grain = 50\n",
        "validations = []\n",
        "train_losses = []\n",
        "accuracies = []\n",
        "loop = tqdm(total=len(train_loader) * num_epoch, position=0)\n",
        "for epoch in range(num_epoch):\n",
        "  acc_sum = 0\n",
        "  for batch, (x, y_truth) in enumerate(train_loader): # Training Loop\n",
        "    x, y_truth = x.cuda(async=True), y_truth.cuda(async=True)\n",
        "    \n",
        "    optimizer.zero_grad()\n",
        "    y_hat = model(x)\n",
        "    loss = objective(y_hat, y_truth)\n",
        "    train_losses.append(loss)\n",
        "    accuracy = (y_hat.argmax(1) == y_truth).float().mean()\n",
        "    acc_sum += accuracy\n",
        "\n",
        "    loop.update(1)\n",
        "    loop.set_description('epoch:{}, loss:{:.4f}, accuracy:{:.3f}'.format(epoch, loss, accuracy))\n",
        "    loss.backward()\n",
        "    optimizer.step()\n",
        "\n",
        "    if batch % plot_grain == 0: \n",
        "      val = np.mean([objective(model(x.cuda()), y.cuda()).item() for x, y in val_loader])\n",
        "      validations.append((len(train_losses), val))\n",
        "      accuracies.append((len(train_losses), acc_sum / plot_grain))\n",
        "      acc_sum = 0\n",
        "loop.close()"
      ],
      "execution_count": 0,
      "outputs": [
        {
          "output_type": "stream",
          "text": [
            "epoch:0, loss:0.3001, accuracy:0.875: 100%|██████████| 1429/1429 [01:25<00:00, 16.74it/s]\n"
          ],
          "name": "stderr"
        }
      ]
    },
    {
      "cell_type": "code",
      "metadata": {
        "id": "4rOGoJuth-Bi",
        "colab_type": "code",
        "outputId": "fc05de4b-ce10-4880-fce4-3880dd458277",
        "colab": {
          "base_uri": "https://localhost:8080/",
          "height": 55
        }
      },
      "source": [
        "print(accuracies)"
      ],
      "execution_count": 0,
      "outputs": [
        {
          "output_type": "stream",
          "text": [
            "[(1, tensor(0.0033, device='cuda:0')), (51, tensor(0.6229, device='cuda:0')), (101, tensor(0.7281, device='cuda:0')), (151, tensor(0.7686, device='cuda:0')), (201, tensor(0.7695, device='cuda:0')), (251, tensor(0.7757, device='cuda:0')), (301, tensor(0.7824, device='cuda:0')), (351, tensor(0.7876, device='cuda:0')), (401, tensor(0.7862, device='cuda:0')), (451, tensor(0.7819, device='cuda:0')), (501, tensor(0.7881, device='cuda:0')), (551, tensor(0.7748, device='cuda:0')), (601, tensor(0.7867, device='cuda:0')), (651, tensor(0.7886, device='cuda:0')), (701, tensor(0.8062, device='cuda:0')), (751, tensor(0.7914, device='cuda:0')), (801, tensor(0.7838, device='cuda:0')), (851, tensor(0.8038, device='cuda:0')), (901, tensor(0.7948, device='cuda:0')), (951, tensor(0.8505, device='cuda:0')), (1001, tensor(0.8614, device='cuda:0')), (1051, tensor(0.8757, device='cuda:0')), (1101, tensor(0.8471, device='cuda:0')), (1151, tensor(0.8676, device='cuda:0')), (1201, tensor(0.8652, device='cuda:0')), (1251, tensor(0.8676, device='cuda:0')), (1301, tensor(0.8571, device='cuda:0')), (1351, tensor(0.8648, device='cuda:0')), (1401, tensor(0.8710, device='cuda:0'))]\n"
          ],
          "name": "stdout"
        }
      ]
    },
    {
      "cell_type": "markdown",
      "metadata": {
        "colab_type": "text",
        "id": "ronkEckHiDaU"
      },
      "source": [
        "\n",
        "___\n",
        "\n",
        "### Part 3\n",
        "Print the number of parameters in your network and plot accuracy of your training and validation \n",
        "set over time. You should experiment with some deep networks and see if you can get a network \n",
        "with close to 1,000,000 parameters.\n",
        "\n",
        "**TODO:**\n",
        "* Print out number of parameters in the model \n",
        "\n",
        "**DONE:**\n",
        "* Experiment with Deep Networks\n",
        "* Plot accuracy of training and validation set over time\n"
      ]
    },
    {
      "cell_type": "code",
      "metadata": {
        "colab_type": "code",
        "id": "PaWCKjxvyRSf",
        "pycharm": {
          "is_executing": false
        },
        "outputId": "025ea5c4-5e3d-40fe-a1db-eab34cda63ee",
        "colab": {
          "base_uri": "https://localhost:8080/",
          "height": 535
        }
      },
      "source": [
        "# Go back up and try a few different networks and initialization strategies\n",
        "# Plot loss if you want\n",
        "# Plot accuracy\n",
        "x, y = zip(*validations)\n",
        "plt.plot(train_losses, label=\"Training Loss\")\n",
        "plt.plot(x, y, label=\"Validation Loss\")\n",
        "plt.ylabel(\"Cross Entropy Losses\")\n",
        "plt.xlabel(\"Training time\")\n",
        "plt.legend()\n",
        "plt.show()\n",
        "\n",
        "x, y = zip(*accuracies)\n",
        "plt.plot(x, y, label=\"Accuracy\")\n",
        "plt.ylabel(\"Accuracy\")\n",
        "plt.legend()\n",
        "plt.show()"
      ],
      "execution_count": 0,
      "outputs": [
        {
          "output_type": "display_data",
          "data": {
            "image/png": "[encoded data removed]",
            "text/plain": [
              "<Figure size 432x288 with 1 Axes>"
            ]
          },
          "metadata": {
            "tags": []
          }
        },
        {
          "output_type": "display_data",
          "data": {
            "image/png": "[encoded data removed]",
            "text/plain": [
              "<Figure size 432x288 with 1 Axes>"
            ]
          },
          "metadata": {
            "tags": []
          }
        }
      ]
    },
    {
      "cell_type": "code",
      "metadata": {
        "colab_type": "code",
        "id": "oijCR-JnyS6V",
        "pycharm": {
          "is_executing": false
        },
        "colab": {}
      },
      "source": [
        "# Compute and print the number of parameters in the model\n",
        "\n",
        "for p in model.parameters():\n",
        "  print(p.size())\n",
        "  for s in p.size():\n",
        "    print(s)\n",
        "\n",
        "\n",
        "# try list comprehention with np.prod(list()) sums up a list\n",
        "\n"
      ],
      "execution_count": 0,
      "outputs": []
    },
    {
      "cell_type": "markdown",
      "metadata": {
        "colab_type": "text",
        "id": "7hXGRxUQh9gX"
      },
      "source": [
        "___\n",
        "\n",
        "### Part 4\n",
        "Learn about how convolution layers affect the shape of outputs, and answer the following quiz questions. Include these in a new markdown cell in your jupyter notebook.\n",
        "\n",
        "\n",
        "*Using a Kernel size of 3×3 what should the settings of your 2d convolution be that results in the following mappings (first answer given to you)*\n",
        "\n",
        "* (c=3, h=10, w=10) ⇒ (c=10, h=8, w=8) : (out_channels=10, kernel_size=(3, 3), padding=(0, 0))\n",
        "* (c=3, h=10, w=10) ⇒ (c=22, h=10, w=10) : **Your answer in bold here**\n",
        "* (c=3, h=10, w=10) ⇒ (c=65, h=12, w=12) : **Your answer in bold here**\n",
        "* (c=3, h=10, w=10) ⇒ (c=7, h=20, w=20) : **Your answer in bold here**\n",
        "\n",
        "*Using a Kernel size of 5×5:*)\n",
        "\n",
        "* (c=3, h=10, w=10) ⇒ (c=10, h=8, w=8) : (out_channels=10, kernel_size=(5, 5), padding=(1, 1))\n",
        "* (c=3, h=10, w=10) ⇒ (c=100, h=10, w=10) : **Your answer in bold here**\n",
        "* (c=3, h=10, w=10) ⇒ (c=23, h=12, w=12) : **Your answer in bold here**\n",
        "* (c=3, h=10, w=10) ⇒ (c=5, h=24, w=24) : **Your answer in bold here**\n",
        "\n",
        "*Using Kernel size of 5×3:*\n",
        "\n",
        "* (c=3, h=10, w=10) ⇒ (c=10, h=8, w=8) : **Your answer in bold here**\n",
        "* (c=3, h=10, w=10) ⇒ (c=100, h=10, w=10) : **Your answer in bold here**\n",
        "* (c=3, h=10, w=10) ⇒ (c=23, h=12, w=12) : **Your answer in bold here**\n",
        "* (c=3, h=10, w=10) ⇒ (c=5, h=24, w=24) : **Your answer in bold here**\n",
        "\n",
        "*Determine the kernel that requires the smallest padding size to make the following mappings possible:*\n",
        "\n",
        "* (c=3, h=10, w=10) ⇒ (c=10, h=9, w=7) : **Your answer in bold here**\n",
        "* (c=3, h=10, w=10) ⇒ (c=22, h=10, w=10) : **Your answer in bold here**\n",
        "\n",
        "**TODO:**\n",
        "\n",
        "* Answer all the questions above \n",
        "\n",
        "**DONE:**\n"
      ]
    },
    {
      "cell_type": "code",
      "metadata": {
        "colab_type": "code",
        "id": "XXfG3wClh8an",
        "pycharm": {
          "is_executing": false
        },
        "colab": {}
      },
      "source": [
        "# Write some test code for checking the answers for these problems (example shown in the video)\n",
        "\n",
        "c = nn.Conv2d(3, 10, kernel_size=(3,3), padding=(0, 0))\n",
        "c(torch.zeros(1, 3, 10, 10)).size()"
      ],
      "execution_count": 0,
      "outputs": []
    }
  ]
}